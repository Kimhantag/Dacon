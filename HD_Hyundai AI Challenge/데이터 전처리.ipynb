{
 "cells": [
  {
   "cell_type": "code",
   "execution_count": 1,
   "id": "07b6c1d4",
   "metadata": {},
   "outputs": [],
   "source": [
    "import pandas as pd\n",
    "import numpy as np\n",
    "import random\n",
    "import os\n",
    "import gc\n",
    "\n",
    "from sklearn.metrics import mean_squared_error\n",
    "from sklearn.model_selection import train_test_split\n",
    "from sklearn.preprocessing import PolynomialFeatures, LabelEncoder\n",
    "from sklearn.linear_model import LinearRegression, Ridge\n",
    "from sklearn.preprocessing import MinMaxScaler\n",
    "\n",
    "import matplotlib.pyplot as plt\n",
    "import seaborn as sns\n",
    "\n",
    "import warnings\n",
    "warnings.filterwarnings('ignore')\n",
    "pd.options.mode.chained_assignment = None  # default='warn'\n",
    "\n",
    "from autogluon.tabular import TabularPredictor, TabularDataset"
   ]
  },
  {
   "cell_type": "code",
   "execution_count": 2,
   "id": "896bbc08",
   "metadata": {},
   "outputs": [],
   "source": [
    "def seed_everything(seed):\n",
    "    random.seed(seed)\n",
    "    os.environ['PYTHONHASHSEED'] = str(seed)\n",
    "    np.random.seed(seed)\n",
    "seed_everything(42) # Seed 고정"
   ]
  },
  {
   "cell_type": "code",
   "execution_count": 3,
   "id": "2fa450bb",
   "metadata": {},
   "outputs": [],
   "source": [
    "import matplotlib.pyplot as plt\n",
    "import pandas as pd\n",
    "import numpy as np\n",
    "import lightgbm as lgb\n",
    "import xgboost as xgb\n",
    "import bisect\n",
    "from tqdm import tqdm\n",
    "from sklearn.metrics import mean_absolute_error\n",
    "from sklearn.preprocessing import LabelEncoder\n",
    "from sklearn.model_selection import KFold\n",
    "\n",
    "train = pd.read_csv('train_fillna.csv')\n",
    "test = pd.read_csv('test_fillna.csv')"
   ]
  },
  {
   "cell_type": "code",
   "execution_count": 4,
   "id": "5899a926",
   "metadata": {},
   "outputs": [],
   "source": [
    "train['U_WIND'].fillna(train['U_WIND'].mean(), inplace=True)\n",
    "train['V_WIND'].fillna(train['V_WIND'].mean(), inplace=True)\n",
    "train['AIR_TEMPERATURE'].fillna(train['AIR_TEMPERATURE'].mean(), inplace=True)\n",
    "train['BN'].fillna(train['BN'].mean(), inplace=True)"
   ]
  },
  {
   "cell_type": "code",
   "execution_count": 5,
   "id": "e968f148",
   "metadata": {},
   "outputs": [],
   "source": [
    "test['U_WIND'].fillna(train['U_WIND'].mean(), inplace=True)\n",
    "test['V_WIND'].fillna(train['V_WIND'].mean(), inplace=True)\n",
    "test['AIR_TEMPERATURE'].fillna(train['AIR_TEMPERATURE'].mean(), inplace=True)\n",
    "test['BN'].fillna(train['BN'].mean(), inplace=True)"
   ]
  },
  {
   "cell_type": "code",
   "execution_count": 6,
   "id": "486b2af4",
   "metadata": {},
   "outputs": [],
   "source": [
    "# datetime 컬럼 처리\n",
    "train['ATA'] = pd.to_datetime(train['ATA'])\n",
    "\n",
    "# datetime을 여러 파생 변수로 변환\n",
    "for df in [train]:\n",
    "    df['year'] = df['ATA'].dt.year\n",
    "    df['month'] = df['ATA'].dt.month\n",
    "    df['day'] = df['ATA'].dt.day\n",
    "    df['hour'] = df['ATA'].dt.hour\n",
    "    df['minute'] = df['ATA'].dt.minute"
   ]
  },
  {
   "cell_type": "code",
   "execution_count": 7,
   "id": "7b38c1f2",
   "metadata": {},
   "outputs": [],
   "source": [
    "# datetime 컬럼 처리\n",
    "test['ATA'] = pd.to_datetime(test['ATA'])\n",
    "\n",
    "# datetime을 여러 파생 변수로 변환\n",
    "for df in [test]:\n",
    "    df['year'] = df['ATA'].dt.year\n",
    "    df['month'] = df['ATA'].dt.month\n",
    "    df['day'] = df['ATA'].dt.day\n",
    "    df['hour'] = df['ATA'].dt.hour\n",
    "    df['minute'] = df['ATA'].dt.minute"
   ]
  },
  {
   "cell_type": "code",
   "execution_count": 8,
   "id": "7c274ad1",
   "metadata": {},
   "outputs": [],
   "source": [
    "train_dist=train\n",
    "test_dist=test"
   ]
  },
  {
   "cell_type": "code",
   "execution_count": 9,
   "id": "456e85e8",
   "metadata": {},
   "outputs": [],
   "source": [
    "train_dist['GT/Port_Size']=train_dist['GT']/train_dist['PORT_SIZE'] \n",
    "test_dist['GT/Port_Size']=test_dist ['GT']/test_dist ['PORT_SIZE']"
   ]
  },
  {
   "cell_type": "code",
   "execution_count": 10,
   "id": "cb6cacac",
   "metadata": {},
   "outputs": [],
   "source": [
    "train_dist['ARI_CO_mean']=0\n",
    "test_dist['ARI_CO_mean']=0\n",
    "# train_dist에 ARI_CO_mean 변수 추가\n",
    "ARI_CO_mean=[]\n",
    "for i in train_dist['ARI_CO'].unique():\n",
    "    ARI_CO_mean.append(train_dist[train_dist['ARI_CO']==i]['CI_HOUR'].mean())\n",
    "for j in range(len(train_dist['ARI_CO'].unique())):\n",
    "    train_dist.loc[train_dist['ARI_CO'] == train_dist['ARI_CO'].unique()[j]\n",
    "                   , 'ARI_CO_mean'] = ARI_CO_mean[j]\n",
    "for k in range(len(train_dist['ARI_CO'].unique())):\n",
    "    test_dist.loc[test_dist['ARI_CO'] == train_dist['ARI_CO'].unique()[k]\n",
    "                   , 'ARI_CO_mean'] = ARI_CO_mean[k]"
   ]
  },
  {
   "cell_type": "code",
   "execution_count": 11,
   "id": "79bad7b0",
   "metadata": {},
   "outputs": [],
   "source": [
    "train_dist['ARI_PO_mean']=0\n",
    "test_dist['ARI_PO_mean']=0\n",
    "ARI_PO_mean=[]\n",
    "for i in train_dist['ARI_PO'].unique():\n",
    "    ARI_PO_mean.append(train_dist[train_dist['ARI_PO']==i]['CI_HOUR'].mean())\n",
    "for j in range(len(train_dist['ARI_PO'].unique())):\n",
    "    train_dist.loc[train_dist['ARI_PO'] == train_dist['ARI_PO'].unique()[j]\n",
    "                   , 'ARI_PO_mean'] = ARI_PO_mean[j]\n",
    "for k in range(len(train_dist['ARI_PO'].unique())):\n",
    "    test_dist.loc[test_dist['ARI_PO'] == train_dist['ARI_PO'].unique()[k]\n",
    "                   , 'ARI_PO_mean'] = ARI_PO_mean[k]   "
   ]
  },
  {
   "cell_type": "code",
   "execution_count": 12,
   "id": "de749a6d",
   "metadata": {},
   "outputs": [],
   "source": [
    "from datetime import date\n",
    "for i in train_dist.index:\n",
    "    train_dist.loc[i, 'weekday'] = date(train_dist['year'][i],\n",
    "                                 train_dist['month'][i],\n",
    "                                 train_dist['day'][i]).weekday()\n",
    "for i in test_dist.index:\n",
    "    test_dist.loc[i, 'weekday'] = date(test_dist['year'][i],\n",
    "                                 test_dist['month'][i],\n",
    "                                 test_dist['day'][i]).weekday()"
   ]
  },
  {
   "cell_type": "code",
   "execution_count": 16,
   "id": "088dffbb",
   "metadata": {},
   "outputs": [],
   "source": [
    "train_dist.to_csv('../DAT/train_pro.csv', index=False)"
   ]
  },
  {
   "cell_type": "code",
   "execution_count": 17,
   "id": "f7b92e18",
   "metadata": {},
   "outputs": [],
   "source": [
    "test_dist.to_csv('../DAT/test_pro.csv', index=False)"
   ]
  },
  {
   "cell_type": "code",
   "execution_count": null,
   "id": "6db59bed",
   "metadata": {},
   "outputs": [],
   "source": []
  }
 ],
 "metadata": {
  "kernelspec": {
   "display_name": "Python 3 (ipykernel)",
   "language": "python",
   "name": "python3"
  },
  "language_info": {
   "codemirror_mode": {
    "name": "ipython",
    "version": 3
   },
   "file_extension": ".py",
   "mimetype": "text/x-python",
   "name": "python",
   "nbconvert_exporter": "python",
   "pygments_lexer": "ipython3",
   "version": "3.11.7"
  }
 },
 "nbformat": 4,
 "nbformat_minor": 5
}
